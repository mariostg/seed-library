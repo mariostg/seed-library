{
 "cells": [
  {
   "cell_type": "code",
   "execution_count": 1,
   "id": "e0ac5602-40c3-4504-be1c-3412d6acc5bf",
   "metadata": {},
   "outputs": [],
   "source": [
    "import os\n",
    "import sys\n",
    "from pathlib import Path\n",
    "\n",
    "import django\n",
    "import pandas as pd\n",
    "\n",
    "PWD = os.getenv(\"PWD\")\n",
    "BASE_DIR = Path(PWD).resolve()\n",
    "if BASE_DIR not in sys.path:\n",
    "    sys.path.insert(0, str(BASE_DIR))\n",
    "os.environ.setdefault(\"DJANGO_SETTINGS_MODULE\", \"main.settings\")\n",
    "os.environ[\"DJANGO_ALLOW_ASYNC_UNSAFE\"] = \"true\"\n",
    "django.setup()\n",
    "import pandas as pd\n",
    "from project.models import Habit, PlantProfile"
   ]
  },
  {
   "cell_type": "code",
   "execution_count": 20,
   "id": "6911aca3",
   "metadata": {},
   "outputs": [
    {
     "name": "stdout",
     "output_type": "stream",
     "text": [
      "<QuerySet [{'sharing_priority__level': 'high'}, {'sharing_priority__level': 'high'}, {'sharing_priority__level': 'high'}, {'sharing_priority__level': 'low'}, {'sharing_priority__level': 'high'}, {'sharing_priority__level': 'medium'}, {'sharing_priority__level': 'none'}, {'sharing_priority__level': 'high'}, {'sharing_priority__level': 'high'}, {'sharing_priority__level': 'high'}, {'sharing_priority__level': 'medium'}, {'sharing_priority__level': 'high'}, {'sharing_priority__level': 'high'}, {'sharing_priority__level': 'none'}, {'sharing_priority__level': 'high'}, {'sharing_priority__level': 'medium'}, {'sharing_priority__level': 'high'}, {'sharing_priority__level': 'medium'}, {'sharing_priority__level': 'high'}, {'sharing_priority__level': 'high'}, '...(remaining elements truncated)...']>\n"
     ]
    }
   ],
   "source": [
    "p=PlantProfile.objects.all().values('sharing_priority__level')\n",
    "print(p)"
   ]
  },
  {
   "cell_type": "code",
   "execution_count": 3,
   "id": "64f7948f-f8de-45aa-937b-208bc80b061d",
   "metadata": {},
   "outputs": [],
   "source": [
    "plants_dir='/Users/mariost-gelais/Documents/datasets/native plants/data/csv/seed-library.csv'\n",
    "plants_df=pd.read_csv(plants_dir)"
   ]
  },
  {
   "cell_type": "code",
   "execution_count": 6,
   "id": "0d4aefd6-dddf-4632-b3a2-b6006c209ac7",
   "metadata": {},
   "outputs": [],
   "source": [
    "inat_dir=\"/Users/mariost-gelais/Documents/datasets/inaturalist-taxonomy.dwca/taxa.csv\"\n",
    "inat_df=pd.read_csv(inat_dir)"
   ]
  },
  {
   "cell_type": "code",
   "execution_count": 51,
   "id": "c896bf3d-1e6d-4193-9d0a-063d087e3fe5",
   "metadata": {},
   "outputs": [],
   "source": [
    "df=plants_df.merge(inat_df, how='left', left_on='latin_name', right_on='scientificName')\n",
    "plant_columns=list(plants_df.columns)\n",
    "plant_columns=plant_columns+['inat_taxon']\n",
    "df['inat_taxon']=df['taxonID'].str.split('/',expand=True)[4]\n",
    "df=df[plant_columns]\n",
    "df.to_csv(\n",
    "        \"/Users/mariost-gelais/Documents/datasets/native plants/seed-library-with-inat-taxon.csv\",\n",
    "        sep=\"\\t\",\n",
    "        index=False,\n",
    "    )"
   ]
  },
  {
   "cell_type": "code",
   "execution_count": null,
   "id": "8dc71aa0-6438-4a11-9d64-db925d480fb3",
   "metadata": {},
   "outputs": [],
   "source": [
    "def taxon_habit_to_csv():\n",
    "    \"\"\"Read vascan data and merge with plant profiles to get taxon and habit\"\"\"\n",
    "    df_vascan = pd.read_csv(\"/Users/mariost-gelais/Documents/datasets/native plants/vascan-native-qc-on.csv\", sep=\"\\t\")\n",
    "\n",
    "    plants = PlantProfile.objects.all()\n",
    "    df_plants = pd.DataFrame(list(plants.values()))\n",
    "\n",
    "    df_merged = pd.merge(\n",
    "        df_plants,\n",
    "        df_vascan,\n",
    "        how=\"left\",\n",
    "        left_on=\"latin_name\",\n",
    "        right_on=df_vascan[\"Scientific name\"].str.lower(),\n",
    "    )\n",
    "    columns = [\"Scientific name\", \"latin_name\", \"english_name\", \"french_name\", \"Habit\", \"taxon\"]\n",
    "    df_merged[\"taxon\"] = df_merged.URL.str.split(\"/\", expand=True)[5]\n",
    "    final_df = df_merged[columns]\n",
    "    final_df.to_csv(\n",
    "        \"/Users/mariost-gelais/Documents/datasets/native plants/vascan-native-taxon.csv\",\n",
    "        sep=\"\\t\",\n",
    "        index=False,\n",
    "    )\n",
    "\n",
    "\n",
    "def taxon_to_db():\n",
    "    \"\"\"Read vascan taxon data and update plant profiles\"\"\"\n",
    "    df_vascan = pd.read_csv(\"/Users/mariost-gelais/Documents/datasets/native plants/vascan-native-taxon.csv\", sep=\"\\t\")\n",
    "    df_vascan[\"taxon\"] = df_vascan[\"taxon\"].astype(\"string\").str.split(\".\").str[0]\n",
    "    for _, row in df_vascan.iterrows():\n",
    "        plant = PlantProfile.objects.get(latin_name=row[\"latin_name\"])\n",
    "        plant.taxon = row[\"taxon\"]\n",
    "        plant.save()\n",
    "\n",
    "\n",
    "def habit_to_db():\n",
    "    \"\"\"Read vascan habit data and update plant profiles\"\"\"\n",
    "    df_vascan = pd.read_csv(\"/Users/mariost-gelais/Documents/datasets/native plants/vascan-native-taxon.csv\", sep=\"\\t\")\n",
    "    for _, row in df_vascan.iterrows():\n",
    "        plant = PlantProfile.objects.get(latin_name=row[\"latin_name\"])\n",
    "        try:\n",
    "            habit = Habit.objects.get(habit=row[\"Habit\"])\n",
    "            plant.habit = habit\n",
    "            plant.save()\n",
    "        except Habit.DoesNotExist:\n",
    "            pass\n",
    "\n",
    "\n",
    "def inaturalist_taxon_to_db():\n",
    "    \"\"\"Read inaturalist data and update plant profiles\"\"\"\n",
    "    df_inaturalist = pd.read_csv(\n",
    "        \"/Users/mariost-gelais/Documents/datasets/native plants/seed-library-with-inat-taxon.csv\", sep=\"\\t\"\n",
    "    )\n",
    "    df_inaturalist[\"inat_taxon\"] = df_inaturalist[\"inat_taxon\"].astype(\"string\").str.split(\".\").str[0]\n",
    "    for _, row in df_inaturalist.iterrows():\n",
    "        plant = PlantProfile.objects.get(latin_name=row[\"latin_name\"].lower())\n",
    "        plant.inaturalist_taxon = row[\"inat_taxon\"]\n",
    "        plant.save()\n",
    "\n",
    "\n",
    "if __name__ == \"__main__\":\n",
    "    #inaturalist_taxon_to_db()\n",
    "    # habit_to_db()\n",
    "    # taxon_to_db()\n",
    "    # taxon_to_csv()\n"
   ]
  },
  {
   "cell_type": "raw",
   "id": "a032202e-6663-47f1-a6c0-92b16467fad4",
   "metadata": {},
   "source": []
  }
 ],
 "metadata": {
  "kernelspec": {
   "display_name": ".venv-owsl",
   "language": "python",
   "name": "python3"
  },
  "language_info": {
   "codemirror_mode": {
    "name": "ipython",
    "version": 3
   },
   "file_extension": ".py",
   "mimetype": "text/x-python",
   "name": "python",
   "nbconvert_exporter": "python",
   "pygments_lexer": "ipython3",
   "version": "3.11.1"
  }
 },
 "nbformat": 4,
 "nbformat_minor": 5
}
